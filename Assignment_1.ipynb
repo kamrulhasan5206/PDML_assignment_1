{
 "cells": [
  {
   "cell_type": "markdown",
   "id": "08ee2585",
   "metadata": {},
   "source": [
    "# Task 1:\n",
    "Given two integer numbers return their product. If the product is greater than 1000, then return their sum."
   ]
  },
  {
   "cell_type": "code",
   "execution_count": 6,
   "id": "ce73bd7e",
   "metadata": {},
   "outputs": [
    {
     "name": "stdout",
     "output_type": "stream",
     "text": [
      "Enter first integer:\n",
      "400\n",
      "Enter second integer:\n",
      "3\n",
      "Sum of two integer: 403\n"
     ]
    }
   ],
   "source": [
    "int_1 = int(input(\"Enter first integer:\\n\"))\n",
    "int_2 = int(input(\"Enter second integer:\\n\"))\n",
    "product_int = int_1*int_2\n",
    "if product_int > 1000:\n",
    "    sum_int= int_1+int_2\n",
    "    print(\"Sum of two integer:\"+\" \"+str(sum_int))\n",
    "else:\n",
    "    print(str(product_int)+\" \"+\"is not grater then 1000\")"
   ]
  },
  {
   "cell_type": "markdown",
   "id": "f7d57f40",
   "metadata": {},
   "source": [
    "# Task 2:\n",
    "   Given a range of the first 10 numbers, Iterate from the start number to the end number, and In each iteration\n",
    "   print the sum of the current number and previous number\n"
   ]
  },
  {
   "cell_type": "code",
   "execution_count": 1,
   "id": "6e0f334a",
   "metadata": {},
   "outputs": [
    {
     "name": "stdout",
     "output_type": "stream",
     "text": [
      "-1\n",
      "1\n",
      "3\n",
      "5\n",
      "7\n",
      "9\n",
      "11\n",
      "13\n",
      "15\n",
      "17\n"
     ]
    }
   ],
   "source": [
    "for i in range(0, 10):\n",
    "    prev = i - 1\n",
    "    sum_curent_prev = i + prev\n",
    "    print(sum_curent_prev)\n",
    "    "
   ]
  },
  {
   "cell_type": "markdown",
   "id": "f7cabe42",
   "metadata": {},
   "source": [
    "# Task 3:\n",
    "   Print First 10 natural numbers using while loop."
   ]
  },
  {
   "cell_type": "code",
   "execution_count": 2,
   "id": "1df5a784",
   "metadata": {},
   "outputs": [
    {
     "name": "stdout",
     "output_type": "stream",
     "text": [
      "0\n",
      "1\n",
      "2\n",
      "3\n",
      "4\n",
      "5\n",
      "6\n",
      "7\n",
      "8\n",
      "9\n"
     ]
    }
   ],
   "source": [
    "i=0\n",
    "while i<10:\n",
    "    print(i)\n",
    "    i += 1"
   ]
  },
  {
   "cell_type": "markdown",
   "id": "b6a4c98c",
   "metadata": {},
   "source": [
    "# Task 4:\n",
    "Accept number from user and calculate the sum of all number from 1 to a given number\n"
   ]
  },
  {
   "cell_type": "code",
   "execution_count": 8,
   "id": "08c87db7",
   "metadata": {},
   "outputs": [
    {
     "name": "stdout",
     "output_type": "stream",
     "text": [
      "Enter an integer number:\n",
      "7\n",
      "28\n"
     ]
    }
   ],
   "source": [
    "given_num = int(input(\"Enter an integer number:\\n\"))\n",
    "sum_of_given_num = 0\n",
    "for s in range(1, given_num+1):\n",
    "    sum_of_given_num += s\n",
    "print(sum_of_given_num)"
   ]
  },
  {
   "cell_type": "markdown",
   "id": "c0971d42",
   "metadata": {},
   "source": [
    "# Task 5\n",
    "Given a list, iterate it, and display numbers divisible by five, and if you find a number greater than 150, stop the loop iteration."
   ]
  },
  {
   "cell_type": "code",
   "execution_count": 9,
   "id": "2cbc2b4b",
   "metadata": {},
   "outputs": [
    {
     "name": "stdout",
     "output_type": "stream",
     "text": [
      "10 is divisible by 5\n",
      "50 is divisible by 5\n",
      "30 is divisible by 5\n",
      "20 is divisible by 5\n",
      "145 is divisible by 5\n",
      "192 is grater then 150 so, iteration stop\n"
     ]
    }
   ],
   "source": [
    "given_list = [10, 50, 30, 20, 19, 101, 102, 148, 145, 192, 106, 90, 20, 40, 60]\n",
    "for val in given_list:\n",
    "    if val > 150:\n",
    "        print(str(val)+\" \"+\"is grater then 150 so, iteration stop\")\n",
    "        break\n",
    "    elif val % 5 == 0:\n",
    "        print(str(val)+\" \"+\"is divisible by 5\")"
   ]
  },
  {
   "cell_type": "markdown",
   "id": "e37112de",
   "metadata": {},
   "source": [
    "# Task 6\n",
    "Reverse the following list using for loop"
   ]
  },
  {
   "cell_type": "code",
   "execution_count": 12,
   "id": "7051a26c",
   "metadata": {},
   "outputs": [
    {
     "name": "stdout",
     "output_type": "stream",
     "text": [
      "[10, 'key', 'helo', 30, 'kamal', 20, 'jamal']\n"
     ]
    }
   ],
   "source": [
    "org_list = ['jamal', 20, 'kamal', 30, 'helo', 'key', 10]\n",
    "for i in range(len(org_list) // 2):\n",
    "    org_list[i], org_list[-1 -i] = org_list[-1 -i], org_list[i] \n",
    "    \n",
    "rev_list = org_list\n",
    "\n",
    "print(rev_list)"
   ]
  },
  {
   "cell_type": "markdown",
   "id": "41d068fd",
   "metadata": {},
   "source": [
    "# Task 7\n",
    "Display “My Name Is James” as “My**Name**Is**James” using output formatting of a print() function\n",
    "For example: print('My', 'Name', 'Is', 'Tamim') will display MyNameIsJames"
   ]
  },
  {
   "cell_type": "code",
   "execution_count": 19,
   "id": "ec8fe21d",
   "metadata": {},
   "outputs": [
    {
     "name": "stdout",
     "output_type": "stream",
     "text": [
      "My**Name**Is**James\n"
     ]
    }
   ],
   "source": [
    "print('My', 'Name', 'Is', 'James', sep='**')"
   ]
  },
  {
   "cell_type": "markdown",
   "id": "248bde3a",
   "metadata": {},
   "source": [
    "# Task 8\n",
    "Concatenate two lists index-wise"
   ]
  },
  {
   "cell_type": "code",
   "execution_count": 24,
   "id": "9726d4c1",
   "metadata": {},
   "outputs": [
    {
     "name": "stdout",
     "output_type": "stream",
     "text": [
      "['Ka', 'mr', 'ul', 'Ha', 'sa', 'n ']\n"
     ]
    }
   ],
   "source": [
    "list_1 = ['K', 'm', 'u', 'H', 's', 'n']\n",
    "list_2 = ['a', 'r', 'l', 'a', 'a', ' ']\n",
    "python\n",
    "concated_list = [i+j for i,j in zip(list_1, list_2)]\n",
    "print(concated_list)"
   ]
  },
  {
   "cell_type": "markdown",
   "id": "88fc4ac0",
   "metadata": {},
   "source": [
    "# Task 9\n",
    "Given a Python list of numbers. Turn every item of a list into its square"
   ]
  },
  {
   "cell_type": "code",
   "execution_count": 25,
   "id": "dd12cbae",
   "metadata": {},
   "outputs": [
    {
     "name": "stdout",
     "output_type": "stream",
     "text": [
      "0\n",
      "1\n",
      "4\n",
      "9\n",
      "16\n",
      "25\n",
      "36\n",
      "49\n",
      "64\n",
      "81\n"
     ]
    }
   ],
   "source": [
    "given_list = [0, 1, 2, 3, 4, 5, 6, 7, 8, 9]\n",
    "\n",
    "for val in given_list:\n",
    "    val = val**2\n",
    "    print(val)"
   ]
  },
  {
   "cell_type": "markdown",
   "id": "eac879c9",
   "metadata": {},
   "source": [
    "# Task 10\n",
    "Access value 20 from the following tuple -> aTuple = (\"Orange\", [10, 20, 30], (5, 15, 25))"
   ]
  },
  {
   "cell_type": "code",
   "execution_count": 27,
   "id": "d6a72a35",
   "metadata": {},
   "outputs": [
    {
     "name": "stdout",
     "output_type": "stream",
     "text": [
      "20\n"
     ]
    }
   ],
   "source": [
    "aTuple = (\"Orange\", [10, 20, 30], (5, 15, 25))\n",
    "print(aTuple[1][1])"
   ]
  }
 ],
 "metadata": {
  "kernelspec": {
   "display_name": "Python 3 (ipykernel)",
   "language": "python",
   "name": "python3"
  },
  "language_info": {
   "codemirror_mode": {
    "name": "ipython",
    "version": 3
   },
   "file_extension": ".py",
   "mimetype": "text/x-python",
   "name": "python",
   "nbconvert_exporter": "python",
   "pygments_lexer": "ipython3",
   "version": "3.9.7"
  }
 },
 "nbformat": 4,
 "nbformat_minor": 5
}
